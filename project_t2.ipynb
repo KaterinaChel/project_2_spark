{
 "cells": [
  {
   "cell_type": "markdown",
   "id": "9d63e1ad-83cf-4ad0-bc36-feeed9d6ce63",
   "metadata": {},
   "source": [
    "# 1 Import library¶"
   ]
  },
  {
   "cell_type": "code",
   "execution_count": 212,
   "id": "1dfad4f3-8983-4e1a-a8d8-0efc289d3f29",
   "metadata": {},
   "outputs": [],
   "source": [
    "import findspark\n",
    "findspark.init('/home/system/spark-3.1.1-bin-hadoop3.2')\n",
    "import pyspark\n",
    "import pandas as pd\n",
    "from pyspark.sql import SparkSession "
   ]
  },
  {
   "cell_type": "code",
   "execution_count": 213,
   "id": "cea5dbb1-5a7c-47d7-9887-da8216ed2d67",
   "metadata": {},
   "outputs": [],
   "source": [
    "import pyarrow\n",
    "import fastparquet"
   ]
  },
  {
   "cell_type": "code",
   "execution_count": 214,
   "id": "37083786-9724-4cb7-9d9a-211c0608690d",
   "metadata": {},
   "outputs": [],
   "source": [
    "from pyspark.sql.functions import lower"
   ]
  },
  {
   "cell_type": "code",
   "execution_count": 215,
   "id": "bb7ed26d-22c8-43c8-9d76-dc6d3eccee62",
   "metadata": {},
   "outputs": [],
   "source": [
    "from pyspark.sql.functions import col, asc, desc"
   ]
  },
  {
   "cell_type": "markdown",
   "id": "985f0f8c-011b-40a6-b929-975c33806589",
   "metadata": {},
   "source": [
    "# 2  task1\n",
    "Сгенерировать DataFrame из трёх колонок (row_id, discipline, season) - олимпийские дисциплины по сезонам.\r\n",
    "\r\n",
    "row_id - число порядкового номера строки;\r\n",
    "discipline - наименование олимпиский дисциплины на английском (полностью маленькими буквами);\r\n",
    "season - сезон дисциплины (summer / winter);\r\n",
    "*Укажите не мнее чем по 5 дисциплин для каждого сезона.\r\n",
    "\r\n",
    "Сохраните DataFrame в csv-файл, разделитель колонок табуляция, первая строка должна содержать название колонок.\r\n",
    "\r\n",
    "Данные должны быть сохранены в виде 1 csv-файла а не множества маленьких."
   ]
  },
  {
   "cell_type": "code",
   "execution_count": 247,
   "id": "358fed88-fb95-4d3b-be60-9a37bb34860c",
   "metadata": {},
   "outputs": [],
   "source": [
    "spark = (SparkSession\n",
    " .builder\n",
    " .appName('pyspark_task1')\n",
    " .getOrCreate())"
   ]
  },
  {
   "cell_type": "code",
   "execution_count": 248,
   "id": "be2a174e-0540-4160-8cf3-b402c7f2496b",
   "metadata": {},
   "outputs": [],
   "source": [
    "rows = [\n",
    "(1,\"skiing\", \"winter\"),(2,\"snowbording\", \"winter\"),\n",
    "(3,\"figure_skating\", \"winter\"), (4,\"bobsleigh\", \"winter\"),\n",
    "(5,\"ice_hockey\", \"winter\"), (6,\"biathlon\", \"winter\"),\n",
    "(7,\"athletics\", \"summer\"), (8,\"swimming\", \"summer\"), \n",
    "(9,\"skateboarding\", \"summer\"), (10,\"surfing\", \"summer\"),\n",
    "(11,\"gymnastics\", \"summer\"), (12,\"rowing\", \"summer\")\n",
    "]"
   ]
  },
  {
   "cell_type": "code",
   "execution_count": 249,
   "id": "a087aa89-adec-4453-ae8f-636b7f177ac9",
   "metadata": {},
   "outputs": [
    {
     "name": "stdout",
     "output_type": "stream",
     "text": [
      "+------+--------------+------+\n",
      "|row_id|    discipline|season|\n",
      "+------+--------------+------+\n",
      "|     1|        skiing|winter|\n",
      "|     2|   snowbording|winter|\n",
      "|     3|figure_skating|winter|\n",
      "|     4|     bobsleigh|winter|\n",
      "|     5|    ice_hockey|winter|\n",
      "|     6|      biathlon|winter|\n",
      "|     7|     athletics|summer|\n",
      "|     8|      swimming|summer|\n",
      "|     9| skateboarding|summer|\n",
      "|    10|       surfing|summer|\n",
      "|    11|    gymnastics|summer|\n",
      "|    12|        rowing|summer|\n",
      "+------+--------------+------+\n",
      "\n"
     ]
    }
   ],
   "source": [
    "schema = \"row_id BIGINT, discipline STRING, season STRING\"\n",
    "olimpic_games_DF = spark.createDataFrame(rows, schema)\n",
    "olimpic_games_DF.show()"
   ]
  },
  {
   "cell_type": "code",
   "execution_count": 250,
   "id": "5a04f7b8-35c4-4005-9331-5634f128c89e",
   "metadata": {},
   "outputs": [
    {
     "name": "stderr",
     "output_type": "stream",
     "text": [
      "                                                                                \r"
     ]
    }
   ],
   "source": [
    "#сохранение через spark to csv\n",
    "output_path = \"home/olimpic_games.csv\"\n",
    "single_part_olimpic_games_DF = olimpic_games_DF.coalesce(1) #reduce amount portition\n",
    "single_part_olimpic_games_DF.write.csv(output_path, header=True, mode=\"overwrite\", sep=\"\\t\")"
   ]
  },
  {
   "cell_type": "markdown",
   "id": "7b2e1350-ffcc-4572-8dc8-1fd2e6d65bba",
   "metadata": {},
   "source": [
    "# 3 task 2\n",
    "2) Прочитайте исходный файл \"Athletes.csv\".\r\n",
    "\r\n",
    "Посчитайте в разрезе дисциплин сколько всего спортсменов в каждой из дисциплин принимало участие.\r\n",
    "\r\n",
    "Результат сохраните в формате parquet."
   ]
  },
  {
   "cell_type": "code",
   "execution_count": 251,
   "id": "4c152f71-0dae-4c62-85fe-6fe07929efde",
   "metadata": {},
   "outputs": [
    {
     "name": "stdout",
     "output_type": "stream",
     "text": [
      "+--------------------+--------------------+-------------------+\n",
      "|                Name|                 NOC|         Discipline|\n",
      "+--------------------+--------------------+-------------------+\n",
      "|     AALERUD Katrine|              Norway|       Cycling Road|\n",
      "|         ABAD Nestor|               Spain|Artistic Gymnastics|\n",
      "|   ABAGNALE Giovanni|               Italy|             Rowing|\n",
      "|      ABALDE Alberto|               Spain|         Basketball|\n",
      "|       ABALDE Tamara|               Spain|         Basketball|\n",
      "|           ABALO Luc|              France|           Handball|\n",
      "|        ABAROA Cesar|               Chile|             Rowing|\n",
      "|       ABASS Abobakr|               Sudan|           Swimming|\n",
      "|    ABBASALI Hamideh|Islamic Republic ...|             Karate|\n",
      "|       ABBASOV Islam|          Azerbaijan|          Wrestling|\n",
      "|        ABBINGH Lois|         Netherlands|           Handball|\n",
      "|         ABBOT Emily|           Australia|Rhythmic Gymnastics|\n",
      "|       ABBOTT Monica|United States of ...|  Baseball/Softball|\n",
      "|ABDALLA Abubaker ...|               Qatar|          Athletics|\n",
      "|      ABDALLA Maryam|               Egypt|  Artistic Swimming|\n",
      "|      ABDALLAH Shahd|               Egypt|  Artistic Swimming|\n",
      "| ABDALRASOOL Mohamed|               Sudan|               Judo|\n",
      "|   ABDEL LATIF Radwa|               Egypt|           Shooting|\n",
      "|    ABDEL RAZEK Samy|               Egypt|           Shooting|\n",
      "|   ABDELAZIZ Abdalla|               Egypt|             Karate|\n",
      "+--------------------+--------------------+-------------------+\n",
      "only showing top 20 rows\n",
      "\n"
     ]
    },
    {
     "name": "stderr",
     "output_type": "stream",
     "text": [
      "23/08/31 09:15:23 WARN CacheManager: Asked to cache already cached data.\n"
     ]
    }
   ],
   "source": [
    "input_file = \"home/Athletes.csv\"\n",
    "df = spark.read.csv(input_file, header = True, sep = ';')\n",
    "df.cache()\n",
    "df.show()"
   ]
  },
  {
   "cell_type": "code",
   "execution_count": 252,
   "id": "2388fdb5-a911-4cf9-80dd-1cdeccbe11b9",
   "metadata": {},
   "outputs": [
    {
     "name": "stdout",
     "output_type": "stream",
     "text": [
      "root\n",
      " |-- Name: string (nullable = true)\n",
      " |-- NOC: string (nullable = true)\n",
      " |-- Discipline: string (nullable = true)\n",
      "\n"
     ]
    }
   ],
   "source": [
    "#see col, type data\n",
    "df.printSchema()"
   ]
  },
  {
   "cell_type": "code",
   "execution_count": 253,
   "id": "87892860-9c91-4cd7-af82-5ab44e7ca6e0",
   "metadata": {},
   "outputs": [
    {
     "name": "stdout",
     "output_type": "stream",
     "text": [
      "+---------------------+\n",
      "|Discipline           |\n",
      "+---------------------+\n",
      "|Tennis               |\n",
      "|Boxing               |\n",
      "|Marathon Swimming    |\n",
      "|Golf                 |\n",
      "|Rowing               |\n",
      "|Baseball/Softball    |\n",
      "|Judo                 |\n",
      "|Sailing              |\n",
      "|Swimming             |\n",
      "|Cycling BMX Freestyle|\n",
      "|Basketball           |\n",
      "|Handball             |\n",
      "|Rhythmic Gymnastics  |\n",
      "|Karate               |\n",
      "|Triathlon            |\n",
      "|Badminton            |\n",
      "|Canoe Sprint         |\n",
      "|Athletics            |\n",
      "|Cycling Track        |\n",
      "|Beach Volleyball     |\n",
      "|Skateboarding        |\n",
      "|Equestrian           |\n",
      "|Shooting             |\n",
      "|Diving               |\n",
      "|Canoe Slalom         |\n",
      "|Rugby Sevens         |\n",
      "|Artistic Gymnastics  |\n",
      "|Cycling Mountain Bike|\n",
      "|3x3 Basketball       |\n",
      "|Cycling Road         |\n",
      "|Wrestling            |\n",
      "|Table Tennis         |\n",
      "|Taekwondo            |\n",
      "|Water Polo           |\n",
      "|Weightlifting        |\n",
      "|Surfing              |\n",
      "|Sport Climbing       |\n",
      "|Cycling BMX Racing   |\n",
      "|Trampoline Gymnastics|\n",
      "|Modern Pentathlon    |\n",
      "|Volleyball           |\n",
      "|Archery              |\n",
      "|Artistic Swimming    |\n",
      "|Fencing              |\n",
      "|Hockey               |\n",
      "|Football             |\n",
      "+---------------------+\n",
      "\n"
     ]
    }
   ],
   "source": [
    "#show all distinct Discipline\n",
    "df.select(col('Discipline')).distinct().show(df.count(), truncate=False)"
   ]
  },
  {
   "cell_type": "code",
   "execution_count": 101,
   "id": "e87677bc-fc31-4705-b107-605a3570ed06",
   "metadata": {},
   "outputs": [],
   "source": [
    "#выборка sparksql"
   ]
  },
  {
   "cell_type": "code",
   "execution_count": 254,
   "id": "3f42af35-2cc5-46a3-9b13-c6a4a3e0251b",
   "metadata": {},
   "outputs": [
    {
     "name": "stdout",
     "output_type": "stream",
     "text": [
      "+-----------------+-----+\n",
      "|       Discipline|Count|\n",
      "+-----------------+-----+\n",
      "|        Athletics| 2068|\n",
      "|         Swimming|  743|\n",
      "|         Football|  567|\n",
      "|           Rowing|  496|\n",
      "|           Hockey|  406|\n",
      "|             Judo|  373|\n",
      "|         Handball|  343|\n",
      "|         Shooting|  342|\n",
      "|          Sailing|  336|\n",
      "|     Rugby Sevens|  283|\n",
      "|       Basketball|  280|\n",
      "|        Wrestling|  279|\n",
      "|       Volleyball|  274|\n",
      "|           Boxing|  270|\n",
      "|       Water Polo|  269|\n",
      "|          Fencing|  249|\n",
      "|       Equestrian|  237|\n",
      "|     Canoe Sprint|  236|\n",
      "|Baseball/Softball|  220|\n",
      "|    Cycling Track|  208|\n",
      "+-----------------+-----+\n",
      "only showing top 20 rows\n",
      "\n"
     ]
    }
   ],
   "source": [
    "df.createOrReplaceTempView(\"athletes\")\n",
    "athletes_DF = spark.sql(\"\"\"\n",
    "select Discipline,  COUNT(*) as Count from athletes\n",
    "group by Discipline\n",
    "\"\"\")\n",
    "athletes_DF.orderBy(\"Count\", ascending=False).show()"
   ]
  },
  {
   "cell_type": "code",
   "execution_count": 105,
   "id": "ba510df6-8087-4023-937c-2e92dd551a1c",
   "metadata": {},
   "outputs": [],
   "source": [
    "#выборка spark -  считаю в данном случае уместнее spark использовать"
   ]
  },
  {
   "cell_type": "code",
   "execution_count": 255,
   "id": "0e13bdb1-58e1-47fa-b6d6-b1d3c71976f9",
   "metadata": {},
   "outputs": [
    {
     "name": "stdout",
     "output_type": "stream",
     "text": [
      "+-----------------+-----+\n",
      "|       Discipline|count|\n",
      "+-----------------+-----+\n",
      "|        Athletics| 2068|\n",
      "|         Swimming|  743|\n",
      "|         Football|  567|\n",
      "|           Rowing|  496|\n",
      "|           Hockey|  406|\n",
      "|             Judo|  373|\n",
      "|         Handball|  343|\n",
      "|         Shooting|  342|\n",
      "|          Sailing|  336|\n",
      "|     Rugby Sevens|  283|\n",
      "|       Basketball|  280|\n",
      "|        Wrestling|  279|\n",
      "|       Volleyball|  274|\n",
      "|           Boxing|  270|\n",
      "|       Water Polo|  269|\n",
      "|          Fencing|  249|\n",
      "|       Equestrian|  237|\n",
      "|     Canoe Sprint|  236|\n",
      "|Baseball/Softball|  220|\n",
      "|    Cycling Track|  208|\n",
      "+-----------------+-----+\n",
      "only showing top 20 rows\n",
      "\n"
     ]
    }
   ],
   "source": [
    "aggregated_data = df.groupBy(\"Discipline\").count().orderBy(col(\"count\").desc())\n",
    "aggregated_data.show()"
   ]
  },
  {
   "cell_type": "code",
   "execution_count": 256,
   "id": "853f09b7-bfe3-4aae-902c-81173d3d2b4f",
   "metadata": {},
   "outputs": [
    {
     "data": {
      "text/html": [
       "<div>\n",
       "<style scoped>\n",
       "    .dataframe tbody tr th:only-of-type {\n",
       "        vertical-align: middle;\n",
       "    }\n",
       "\n",
       "    .dataframe tbody tr th {\n",
       "        vertical-align: top;\n",
       "    }\n",
       "\n",
       "    .dataframe thead th {\n",
       "        text-align: right;\n",
       "    }\n",
       "</style>\n",
       "<table border=\"1\" class=\"dataframe\">\n",
       "  <thead>\n",
       "    <tr style=\"text-align: right;\">\n",
       "      <th></th>\n",
       "      <th>Discipline</th>\n",
       "      <th>Count</th>\n",
       "    </tr>\n",
       "  </thead>\n",
       "  <tbody>\n",
       "    <tr>\n",
       "      <th>0</th>\n",
       "      <td>Tennis</td>\n",
       "      <td>178</td>\n",
       "    </tr>\n",
       "    <tr>\n",
       "      <th>1</th>\n",
       "      <td>Boxing</td>\n",
       "      <td>270</td>\n",
       "    </tr>\n",
       "    <tr>\n",
       "      <th>2</th>\n",
       "      <td>Marathon Swimming</td>\n",
       "      <td>49</td>\n",
       "    </tr>\n",
       "    <tr>\n",
       "      <th>3</th>\n",
       "      <td>Golf</td>\n",
       "      <td>115</td>\n",
       "    </tr>\n",
       "    <tr>\n",
       "      <th>4</th>\n",
       "      <td>Rowing</td>\n",
       "      <td>496</td>\n",
       "    </tr>\n",
       "  </tbody>\n",
       "</table>\n",
       "</div>"
      ],
      "text/plain": [
       "          Discipline  Count\n",
       "0             Tennis    178\n",
       "1             Boxing    270\n",
       "2  Marathon Swimming     49\n",
       "3               Golf    115\n",
       "4             Rowing    496"
      ]
     },
     "execution_count": 256,
     "metadata": {},
     "output_type": "execute_result"
    }
   ],
   "source": [
    "output_path1 = \"home/athletes_DF.parquet\"\n",
    "pandas_df = athletes_DF.toPandas() #тут преобразую в пандас дата фрейм для сохранения (небольшие дата сеты фреймы так ок)\n",
    "pandas_df.to_parquet(path=output_path1, compression='snappy', index=False) #в задании не было упорядочивания, поэтому сохраню так\n",
    "pd.read_parquet(output_path1).head(5) #проверка"
   ]
  },
  {
   "cell_type": "markdown",
   "id": "3a52fb32-5c7a-4eb6-a7e2-79f79a3d16ff",
   "metadata": {},
   "source": [
    "# 4 task3\n",
    "Прочитайте исходный файл \"Athletes.csv\".\r\n",
    "\r\n",
    "Посчитайте в разрезе дисциплин сколько всего спортсменов в каждой из дисциплин принимало участие.\r\n",
    "\r\n",
    "Получившийся результат нужно объединить с сгенерированным вами DataFrame из 1-го задания и в итоге вывести количество участников, только по тем дисциплинам, что есть в вашем сгенерированном DataFrame.\r\n",
    "\r\n",
    "Результат сохраните в формате parquet."
   ]
  },
  {
   "cell_type": "code",
   "execution_count": 257,
   "id": "8fe5c730-1734-4973-bf32-34f82094c6c7",
   "metadata": {},
   "outputs": [
    {
     "name": "stdout",
     "output_type": "stream",
     "text": [
      "+-------------+-----+\n",
      "|   Discipline|Count|\n",
      "+-------------+-----+\n",
      "|    Athletics| 2068|\n",
      "|     Swimming|  743|\n",
      "|Skateboarding|   77|\n",
      "|      Surfing|   38|\n",
      "|       Rowing|  496|\n",
      "+-------------+-----+\n",
      "\n"
     ]
    }
   ],
   "source": [
    "merged_df = olimpic_games_DF.join(athletes_DF, olimpic_games_DF.discipline == lower(athletes_DF.Discipline), 'inner').select('athletes.Discipline', 'Count')\n",
    "merged_df.show()"
   ]
  },
  {
   "cell_type": "code",
   "execution_count": 258,
   "id": "f76120bb-4a2a-4750-b628-f50f066d9ecb",
   "metadata": {},
   "outputs": [
    {
     "data": {
      "text/html": [
       "<div>\n",
       "<style scoped>\n",
       "    .dataframe tbody tr th:only-of-type {\n",
       "        vertical-align: middle;\n",
       "    }\n",
       "\n",
       "    .dataframe tbody tr th {\n",
       "        vertical-align: top;\n",
       "    }\n",
       "\n",
       "    .dataframe thead th {\n",
       "        text-align: right;\n",
       "    }\n",
       "</style>\n",
       "<table border=\"1\" class=\"dataframe\">\n",
       "  <thead>\n",
       "    <tr style=\"text-align: right;\">\n",
       "      <th></th>\n",
       "      <th>Discipline</th>\n",
       "      <th>Count</th>\n",
       "    </tr>\n",
       "  </thead>\n",
       "  <tbody>\n",
       "    <tr>\n",
       "      <th>0</th>\n",
       "      <td>Athletics</td>\n",
       "      <td>2068</td>\n",
       "    </tr>\n",
       "    <tr>\n",
       "      <th>1</th>\n",
       "      <td>Swimming</td>\n",
       "      <td>743</td>\n",
       "    </tr>\n",
       "    <tr>\n",
       "      <th>2</th>\n",
       "      <td>Skateboarding</td>\n",
       "      <td>77</td>\n",
       "    </tr>\n",
       "    <tr>\n",
       "      <th>3</th>\n",
       "      <td>Surfing</td>\n",
       "      <td>38</td>\n",
       "    </tr>\n",
       "    <tr>\n",
       "      <th>4</th>\n",
       "      <td>Rowing</td>\n",
       "      <td>496</td>\n",
       "    </tr>\n",
       "  </tbody>\n",
       "</table>\n",
       "</div>"
      ],
      "text/plain": [
       "      Discipline  Count\n",
       "0      Athletics   2068\n",
       "1       Swimming    743\n",
       "2  Skateboarding     77\n",
       "3        Surfing     38\n",
       "4         Rowing    496"
      ]
     },
     "execution_count": 258,
     "metadata": {},
     "output_type": "execute_result"
    }
   ],
   "source": [
    "#сохранение через пандас + проверка\n",
    "output_path2 = \"home/pandas_df_union.parquet\"\n",
    "pandas_df_union = merged_df.toPandas()\n",
    "pandas_df_union.to_parquet(path=output_path2, compression='snappy', index=False)\n",
    "pd.read_parquet(output_path2)"
   ]
  },
  {
   "cell_type": "code",
   "execution_count": 259,
   "id": "96fe462e-7500-40a7-820b-70af7af8ef48",
   "metadata": {},
   "outputs": [
    {
     "name": "stderr",
     "output_type": "stream",
     "text": [
      "[Stage 111:>                                                        (0 + 1) / 1]\r"
     ]
    },
    {
     "name": "stdout",
     "output_type": "stream",
     "text": [
      "+-------------+-----+\n",
      "|   Discipline|Count|\n",
      "+-------------+-----+\n",
      "|    Athletics| 2068|\n",
      "|     Swimming|  743|\n",
      "|Skateboarding|   77|\n",
      "|      Surfing|   38|\n",
      "|       Rowing|  496|\n",
      "+-------------+-----+\n",
      "\n"
     ]
    },
    {
     "name": "stderr",
     "output_type": "stream",
     "text": [
      "                                                                                \r"
     ]
    }
   ],
   "source": [
    "#сохранение через spark + проверка\n",
    "output_path3 = \"home/single_part_merge_DF.parquet\"\n",
    "single_part_merge = merged_df.coalesce(1)\n",
    "single_part_merge.write.parquet(output_path3, mode=\"overwrite\")\n",
    "df_single_part_merge_DF = spark.read.parquet(output_path3)\n",
    "df_single_part_merge_DF.show()"
   ]
  },
  {
   "cell_type": "code",
   "execution_count": 260,
   "id": "1a3bfea1-85ca-451c-a909-cb6a00666125",
   "metadata": {},
   "outputs": [],
   "source": [
    "spark.stop()"
   ]
  },
  {
   "cell_type": "code",
   "execution_count": null,
   "id": "a6e67e73-ebda-4102-b2bc-29c200075eea",
   "metadata": {},
   "outputs": [],
   "source": []
  }
 ],
 "metadata": {
  "kernelspec": {
   "display_name": "Python 3 (ipykernel)",
   "language": "python",
   "name": "python3"
  },
  "language_info": {
   "codemirror_mode": {
    "name": "ipython",
    "version": 3
   },
   "file_extension": ".py",
   "mimetype": "text/x-python",
   "name": "python",
   "nbconvert_exporter": "python",
   "pygments_lexer": "ipython3",
   "version": "3.8.10"
  }
 },
 "nbformat": 4,
 "nbformat_minor": 5
}
